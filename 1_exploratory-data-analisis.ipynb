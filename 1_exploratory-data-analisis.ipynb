{
 "cells": [
  {
   "cell_type": "markdown",
   "metadata": {},
   "source": [
    "# Objectives\n",
    "For questions 1,2,3 and 4 use the train.csv dataset. For question 5 you should use the dataset 'train.csv' and 'test_X.csv'.\n",
    "\n",
    "    1.    What are the 3 countries where most orders are placed?\n",
    "    2.    What are the hours when most orders are placed in Spain?\n",
    "    3.    What is the average price per order in the store with ID 12513?\n",
    "    4.    Taking into account the peaks of demand in Spain, if the delivery drivers work in 8-hour shifts.\n",
    "        Shift 1 (00:00-08:00)\n",
    "        Shift 2 (08:00-16:00)\n",
    "        Shift 3 (16:00-00:00)\n",
    "\n",
    "        What percentage of delivery drivers would you allocate for each shift to cope with peak demand (e.g. Shift 1 30%, Shift 2 10% and Shift 3 60%)?\n",
    "\n",
    "    5.    Perform a predictive machine learning model of the 'train.csv' dataset using the predictor variables delivered in the 'test_X' dataset that will predict whether the order will be cancelled or not ('final_status' column).\n",
    "\n",
    "For simplicity, you can assign the 'CanceledStatus' values to 0 and the 'DeliveredStatus' values to 1.\n",
    "\n",
    "0 = CanceledStatus\n",
    "1 = DeliveredStatus\n",
    "\n",
    "Deliver the predictions in a separate csv. As can be seen in the 'example_predictions' example. The quality of the prediction will be measured by the f1-score(macro)"
   ]
  },
  {
   "cell_type": "code",
   "execution_count": 2,
   "metadata": {},
   "outputs": [],
   "source": [
    "# Importing libraries for:\n",
    "# Data processing\n",
    "# -----------------------------------------------------------------------\n",
    "import numpy as np\n",
    "import pandas as pd\n",
    "\n",
    "# Plots\n",
    "# ------------------------------------------------------------------------\n",
    "import matplotlib.pyplot as plt\n",
    "import seaborn as sns\n",
    "plt.rcParams[\"figure.figsize\"] = (25,16) \n",
    "\n",
    "# Stats\n",
    "# ------------------------------------------------------------------------\n",
    "import sidetable\n",
    "\n",
    "# Times and dates\n",
    "# ------------------------------------------------------------------------\n",
    "import datetime as dt\n",
    "from datetime import datetime"
   ]
  },
  {
   "cell_type": "code",
   "execution_count": 3,
   "metadata": {},
   "outputs": [
    {
     "data": {
      "text/html": [
       "<div>\n",
       "<style scoped>\n",
       "    .dataframe tbody tr th:only-of-type {\n",
       "        vertical-align: middle;\n",
       "    }\n",
       "\n",
       "    .dataframe tbody tr th {\n",
       "        vertical-align: top;\n",
       "    }\n",
       "\n",
       "    .dataframe thead th {\n",
       "        text-align: right;\n",
       "    }\n",
       "</style>\n",
       "<table border=\"1\" class=\"dataframe\">\n",
       "  <thead>\n",
       "    <tr style=\"text-align: right;\">\n",
       "      <th></th>\n",
       "      <th>order_id</th>\n",
       "      <th>local_time</th>\n",
       "      <th>country_code</th>\n",
       "      <th>store_address</th>\n",
       "      <th>payment_status</th>\n",
       "      <th>n_of_products</th>\n",
       "      <th>products_total</th>\n",
       "      <th>final_status</th>\n",
       "    </tr>\n",
       "  </thead>\n",
       "  <tbody>\n",
       "    <tr>\n",
       "      <th>0</th>\n",
       "      <td>33446280</td>\n",
       "      <td>14:11:09</td>\n",
       "      <td>AR</td>\n",
       "      <td>55379</td>\n",
       "      <td>PAID</td>\n",
       "      <td>2</td>\n",
       "      <td>11.88</td>\n",
       "      <td>DeliveredStatus</td>\n",
       "    </tr>\n",
       "    <tr>\n",
       "      <th>1</th>\n",
       "      <td>33107339</td>\n",
       "      <td>11:47:41</td>\n",
       "      <td>GT</td>\n",
       "      <td>23487</td>\n",
       "      <td>PAID</td>\n",
       "      <td>2</td>\n",
       "      <td>5.20</td>\n",
       "      <td>DeliveredStatus</td>\n",
       "    </tr>\n",
       "    <tr>\n",
       "      <th>2</th>\n",
       "      <td>32960645</td>\n",
       "      <td>11:53:53</td>\n",
       "      <td>CR</td>\n",
       "      <td>62229</td>\n",
       "      <td>PAID</td>\n",
       "      <td>1</td>\n",
       "      <td>6.03</td>\n",
       "      <td>DeliveredStatus</td>\n",
       "    </tr>\n",
       "    <tr>\n",
       "      <th>3</th>\n",
       "      <td>32089564</td>\n",
       "      <td>20:15:21</td>\n",
       "      <td>ES</td>\n",
       "      <td>29446</td>\n",
       "      <td>PAID</td>\n",
       "      <td>6</td>\n",
       "      <td>6.37</td>\n",
       "      <td>DeliveredStatus</td>\n",
       "    </tr>\n",
       "    <tr>\n",
       "      <th>4</th>\n",
       "      <td>32157739</td>\n",
       "      <td>21:32:16</td>\n",
       "      <td>AR</td>\n",
       "      <td>13917</td>\n",
       "      <td>PAID</td>\n",
       "      <td>1</td>\n",
       "      <td>5.36</td>\n",
       "      <td>CanceledStatus</td>\n",
       "    </tr>\n",
       "  </tbody>\n",
       "</table>\n",
       "</div>"
      ],
      "text/plain": [
       "   order_id local_time country_code  store_address payment_status  \\\n",
       "0  33446280   14:11:09           AR          55379           PAID   \n",
       "1  33107339   11:47:41           GT          23487           PAID   \n",
       "2  32960645   11:53:53           CR          62229           PAID   \n",
       "3  32089564   20:15:21           ES          29446           PAID   \n",
       "4  32157739   21:32:16           AR          13917           PAID   \n",
       "\n",
       "   n_of_products  products_total     final_status  \n",
       "0              2           11.88  DeliveredStatus  \n",
       "1              2            5.20  DeliveredStatus  \n",
       "2              1            6.03  DeliveredStatus  \n",
       "3              6            6.37  DeliveredStatus  \n",
       "4              1            5.36   CanceledStatus  "
      ]
     },
     "execution_count": 3,
     "metadata": {},
     "output_type": "execute_result"
    }
   ],
   "source": [
    "# Loading a dataframe\n",
    "df = pd.read_csv('data/train.csv')\n",
    "df.head()"
   ]
  },
  {
   "cell_type": "code",
   "execution_count": 4,
   "metadata": {},
   "outputs": [
    {
     "data": {
      "text/plain": [
       "(54330, 8)"
      ]
     },
     "execution_count": 4,
     "metadata": {},
     "output_type": "execute_result"
    }
   ],
   "source": [
    "# Checking shape, info and main statistical attributes\n",
    "df.shape"
   ]
  },
  {
   "cell_type": "code",
   "execution_count": 5,
   "metadata": {},
   "outputs": [
    {
     "name": "stdout",
     "output_type": "stream",
     "text": [
      "<class 'pandas.core.frame.DataFrame'>\n",
      "RangeIndex: 54330 entries, 0 to 54329\n",
      "Data columns (total 8 columns):\n",
      " #   Column          Non-Null Count  Dtype  \n",
      "---  ------          --------------  -----  \n",
      " 0   order_id        54330 non-null  int64  \n",
      " 1   local_time      54330 non-null  object \n",
      " 2   country_code    54330 non-null  object \n",
      " 3   store_address   54330 non-null  int64  \n",
      " 4   payment_status  54330 non-null  object \n",
      " 5   n_of_products   54330 non-null  int64  \n",
      " 6   products_total  54330 non-null  float64\n",
      " 7   final_status    54330 non-null  object \n",
      "dtypes: float64(1), int64(3), object(4)\n",
      "memory usage: 3.3+ MB\n"
     ]
    }
   ],
   "source": [
    "df.info()"
   ]
  },
  {
   "cell_type": "code",
   "execution_count": 6,
   "metadata": {},
   "outputs": [
    {
     "data": {
      "text/html": [
       "<div>\n",
       "<style scoped>\n",
       "    .dataframe tbody tr th:only-of-type {\n",
       "        vertical-align: middle;\n",
       "    }\n",
       "\n",
       "    .dataframe tbody tr th {\n",
       "        vertical-align: top;\n",
       "    }\n",
       "\n",
       "    .dataframe thead th {\n",
       "        text-align: right;\n",
       "    }\n",
       "</style>\n",
       "<table border=\"1\" class=\"dataframe\">\n",
       "  <thead>\n",
       "    <tr style=\"text-align: right;\">\n",
       "      <th></th>\n",
       "      <th>count</th>\n",
       "      <th>mean</th>\n",
       "      <th>std</th>\n",
       "      <th>min</th>\n",
       "      <th>25%</th>\n",
       "      <th>50%</th>\n",
       "      <th>75%</th>\n",
       "      <th>max</th>\n",
       "    </tr>\n",
       "  </thead>\n",
       "  <tbody>\n",
       "    <tr>\n",
       "      <th>order_id</th>\n",
       "      <td>54330.0</td>\n",
       "      <td>3.278267e+07</td>\n",
       "      <td>445940.244923</td>\n",
       "      <td>31503775.0</td>\n",
       "      <td>32400066.75</td>\n",
       "      <td>32781587.50</td>\n",
       "      <td>33183798.00</td>\n",
       "      <td>33560846.00</td>\n",
       "    </tr>\n",
       "    <tr>\n",
       "      <th>store_address</th>\n",
       "      <td>54330.0</td>\n",
       "      <td>4.160938e+04</td>\n",
       "      <td>21903.267141</td>\n",
       "      <td>190.0</td>\n",
       "      <td>21369.00</td>\n",
       "      <td>45993.50</td>\n",
       "      <td>62004.00</td>\n",
       "      <td>75236.00</td>\n",
       "    </tr>\n",
       "    <tr>\n",
       "      <th>n_of_products</th>\n",
       "      <td>54330.0</td>\n",
       "      <td>2.815792e+00</td>\n",
       "      <td>2.430936</td>\n",
       "      <td>1.0</td>\n",
       "      <td>1.00</td>\n",
       "      <td>2.00</td>\n",
       "      <td>3.00</td>\n",
       "      <td>39.00</td>\n",
       "    </tr>\n",
       "    <tr>\n",
       "      <th>products_total</th>\n",
       "      <td>54330.0</td>\n",
       "      <td>9.838136e+00</td>\n",
       "      <td>9.260352</td>\n",
       "      <td>0.0</td>\n",
       "      <td>4.13</td>\n",
       "      <td>7.13</td>\n",
       "      <td>12.77</td>\n",
       "      <td>221.48</td>\n",
       "    </tr>\n",
       "  </tbody>\n",
       "</table>\n",
       "</div>"
      ],
      "text/plain": [
       "                  count          mean            std         min          25%  \\\n",
       "order_id        54330.0  3.278267e+07  445940.244923  31503775.0  32400066.75   \n",
       "store_address   54330.0  4.160938e+04   21903.267141       190.0     21369.00   \n",
       "n_of_products   54330.0  2.815792e+00       2.430936         1.0         1.00   \n",
       "products_total  54330.0  9.838136e+00       9.260352         0.0         4.13   \n",
       "\n",
       "                        50%          75%          max  \n",
       "order_id        32781587.50  33183798.00  33560846.00  \n",
       "store_address      45993.50     62004.00     75236.00  \n",
       "n_of_products          2.00         3.00        39.00  \n",
       "products_total         7.13        12.77       221.48  "
      ]
     },
     "execution_count": 6,
     "metadata": {},
     "output_type": "execute_result"
    }
   ],
   "source": [
    "# For numeric variables\n",
    "df.describe().T"
   ]
  },
  {
   "cell_type": "markdown",
   "metadata": {},
   "source": [
    "> * We can conclude that order_id and store_address are in fact categorical variables.\n",
    "> * Normally people buy 2 products per order, although there is a maximum of 39 (check outliers)\n",
    "> * There is a minimum order total cost of 0€ (check how often this happens) although the most usual total cost is of around 7€\n"
   ]
  },
  {
   "cell_type": "code",
   "execution_count": 7,
   "metadata": {},
   "outputs": [
    {
     "data": {
      "text/html": [
       "<div>\n",
       "<style scoped>\n",
       "    .dataframe tbody tr th:only-of-type {\n",
       "        vertical-align: middle;\n",
       "    }\n",
       "\n",
       "    .dataframe tbody tr th {\n",
       "        vertical-align: top;\n",
       "    }\n",
       "\n",
       "    .dataframe thead th {\n",
       "        text-align: right;\n",
       "    }\n",
       "</style>\n",
       "<table border=\"1\" class=\"dataframe\">\n",
       "  <thead>\n",
       "    <tr style=\"text-align: right;\">\n",
       "      <th></th>\n",
       "      <th>count</th>\n",
       "      <th>unique</th>\n",
       "      <th>top</th>\n",
       "      <th>freq</th>\n",
       "    </tr>\n",
       "  </thead>\n",
       "  <tbody>\n",
       "    <tr>\n",
       "      <th>local_time</th>\n",
       "      <td>54330</td>\n",
       "      <td>32905</td>\n",
       "      <td>09:03:01</td>\n",
       "      <td>38</td>\n",
       "    </tr>\n",
       "    <tr>\n",
       "      <th>country_code</th>\n",
       "      <td>54330</td>\n",
       "      <td>23</td>\n",
       "      <td>AR</td>\n",
       "      <td>11854</td>\n",
       "    </tr>\n",
       "    <tr>\n",
       "      <th>payment_status</th>\n",
       "      <td>54330</td>\n",
       "      <td>3</td>\n",
       "      <td>PAID</td>\n",
       "      <td>53854</td>\n",
       "    </tr>\n",
       "    <tr>\n",
       "      <th>final_status</th>\n",
       "      <td>54330</td>\n",
       "      <td>2</td>\n",
       "      <td>DeliveredStatus</td>\n",
       "      <td>48498</td>\n",
       "    </tr>\n",
       "  </tbody>\n",
       "</table>\n",
       "</div>"
      ],
      "text/plain": [
       "                count unique              top   freq\n",
       "local_time      54330  32905         09:03:01     38\n",
       "country_code    54330     23               AR  11854\n",
       "payment_status  54330      3             PAID  53854\n",
       "final_status    54330      2  DeliveredStatus  48498"
      ]
     },
     "execution_count": 7,
     "metadata": {},
     "output_type": "execute_result"
    }
   ],
   "source": [
    "# For categorical variables\n",
    "df.describe(include='O').T"
   ]
  },
  {
   "cell_type": "markdown",
   "metadata": {},
   "source": [
    "> * The most common order time is exactly 9:03:01\n",
    "> * The most frequent country in this dataset is Argentina\n",
    "> * Only `10.73%` of orders have a Cancelled Status --> (5832 out of 54330)"
   ]
  },
  {
   "cell_type": "code",
   "execution_count": 8,
   "metadata": {},
   "outputs": [
    {
     "data": {
      "text/plain": [
       "order_id          0\n",
       "local_time        0\n",
       "country_code      0\n",
       "store_address     0\n",
       "payment_status    0\n",
       "n_of_products     0\n",
       "products_total    0\n",
       "final_status      0\n",
       "dtype: int64"
      ]
     },
     "execution_count": 8,
     "metadata": {},
     "output_type": "execute_result"
    }
   ],
   "source": [
    "# Checking nulls\n",
    "df.isnull().sum()"
   ]
  },
  {
   "cell_type": "markdown",
   "metadata": {},
   "source": [
    "#  1.    What are the 3 countries where most orders are placed?\n",
    "_¿Cuáles son los 3 paises en los que más pedidos se realizan?_"
   ]
  },
  {
   "cell_type": "code",
   "execution_count": 9,
   "metadata": {},
   "outputs": [
    {
     "data": {
      "text/plain": [
       "AR    11854\n",
       "ES    11554\n",
       "TR     5696\n",
       "Name: country_code, dtype: int64"
      ]
     },
     "execution_count": 9,
     "metadata": {},
     "output_type": "execute_result"
    }
   ],
   "source": [
    "df['country_code'].value_counts().head(3)"
   ]
  },
  {
   "cell_type": "markdown",
   "metadata": {},
   "source": [
    "> ##### Argentina (AR), Spain (ES) and Turkey (TR) are the three countries where most orders are placed.\n",
    ">\n",
    "> ##### _Argentina (AR), España (ES) y Turquía (TR) son los tres países donde se realizan más pedidos._"
   ]
  },
  {
   "cell_type": "markdown",
   "metadata": {},
   "source": [
    "# 2.    What are the hours when most orders are placed in Spain?\n",
    "_¿Cuáles son las horas en las que se realizan más pedidos en España?_"
   ]
  },
  {
   "cell_type": "code",
   "execution_count": 11,
   "metadata": {},
   "outputs": [
    {
     "data": {
      "text/html": [
       "<div>\n",
       "<style scoped>\n",
       "    .dataframe tbody tr th:only-of-type {\n",
       "        vertical-align: middle;\n",
       "    }\n",
       "\n",
       "    .dataframe tbody tr th {\n",
       "        vertical-align: top;\n",
       "    }\n",
       "\n",
       "    .dataframe thead th {\n",
       "        text-align: right;\n",
       "    }\n",
       "</style>\n",
       "<table border=\"1\" class=\"dataframe\">\n",
       "  <thead>\n",
       "    <tr style=\"text-align: right;\">\n",
       "      <th></th>\n",
       "      <th>order_id</th>\n",
       "      <th>local_time</th>\n",
       "      <th>country_code</th>\n",
       "      <th>store_address</th>\n",
       "      <th>payment_status</th>\n",
       "      <th>n_of_products</th>\n",
       "      <th>products_total</th>\n",
       "      <th>final_status</th>\n",
       "    </tr>\n",
       "  </thead>\n",
       "  <tbody>\n",
       "    <tr>\n",
       "      <th>3</th>\n",
       "      <td>32089564</td>\n",
       "      <td>20:15:21</td>\n",
       "      <td>ES</td>\n",
       "      <td>29446</td>\n",
       "      <td>PAID</td>\n",
       "      <td>6</td>\n",
       "      <td>6.37</td>\n",
       "      <td>DeliveredStatus</td>\n",
       "    </tr>\n",
       "    <tr>\n",
       "      <th>8</th>\n",
       "      <td>32236610</td>\n",
       "      <td>17:09:16</td>\n",
       "      <td>ES</td>\n",
       "      <td>30120</td>\n",
       "      <td>PAID</td>\n",
       "      <td>3</td>\n",
       "      <td>4.35</td>\n",
       "      <td>DeliveredStatus</td>\n",
       "    </tr>\n",
       "    <tr>\n",
       "      <th>13</th>\n",
       "      <td>32235607</td>\n",
       "      <td>18:02:18</td>\n",
       "      <td>ES</td>\n",
       "      <td>18682</td>\n",
       "      <td>PAID</td>\n",
       "      <td>9</td>\n",
       "      <td>16.12</td>\n",
       "      <td>DeliveredStatus</td>\n",
       "    </tr>\n",
       "    <tr>\n",
       "      <th>19</th>\n",
       "      <td>32670668</td>\n",
       "      <td>14:37:58</td>\n",
       "      <td>ES</td>\n",
       "      <td>8994</td>\n",
       "      <td>PAID</td>\n",
       "      <td>12</td>\n",
       "      <td>17.93</td>\n",
       "      <td>DeliveredStatus</td>\n",
       "    </tr>\n",
       "    <tr>\n",
       "      <th>24</th>\n",
       "      <td>32126718</td>\n",
       "      <td>21:12:30</td>\n",
       "      <td>ES</td>\n",
       "      <td>14872</td>\n",
       "      <td>PAID</td>\n",
       "      <td>3</td>\n",
       "      <td>22.00</td>\n",
       "      <td>DeliveredStatus</td>\n",
       "    </tr>\n",
       "  </tbody>\n",
       "</table>\n",
       "</div>"
      ],
      "text/plain": [
       "    order_id local_time country_code  store_address payment_status  \\\n",
       "3   32089564   20:15:21           ES          29446           PAID   \n",
       "8   32236610   17:09:16           ES          30120           PAID   \n",
       "13  32235607   18:02:18           ES          18682           PAID   \n",
       "19  32670668   14:37:58           ES           8994           PAID   \n",
       "24  32126718   21:12:30           ES          14872           PAID   \n",
       "\n",
       "    n_of_products  products_total     final_status  \n",
       "3               6            6.37  DeliveredStatus  \n",
       "8               3            4.35  DeliveredStatus  \n",
       "13              9           16.12  DeliveredStatus  \n",
       "19             12           17.93  DeliveredStatus  \n",
       "24              3           22.00  DeliveredStatus  "
      ]
     },
     "execution_count": 11,
     "metadata": {},
     "output_type": "execute_result"
    }
   ],
   "source": [
    "# First let's make a subset filtered by Spain\n",
    "spain = df[df['country_code']== 'ES']\n",
    "spain.head()"
   ]
  },
  {
   "cell_type": "code",
   "execution_count": 12,
   "metadata": {},
   "outputs": [
    {
     "data": {
      "text/plain": [
       "10:03:06    17\n",
       "10:03:07    17\n",
       "21:03:01    16\n",
       "10:03:08    15\n",
       "10:03:05    15\n",
       "10:03:03    13\n",
       "10:03:01    12\n",
       "10:03:04    11\n",
       "20:03:03     9\n",
       "10:03:12     9\n",
       "10:03:09     9\n",
       "10:03:02     8\n",
       "15:43:03     7\n",
       "10:03:10     7\n",
       "10:03:11     7\n",
       "Name: local_time, dtype: int64"
      ]
     },
     "execution_count": 12,
     "metadata": {},
     "output_type": "execute_result"
    }
   ],
   "source": [
    "# Show the value counts for each local time\n",
    "pd.options.display.max_rows=None\n",
    "spain['local_time'].value_counts().head(15)"
   ]
  },
  {
   "cell_type": "code",
   "execution_count": 13,
   "metadata": {},
   "outputs": [
    {
     "data": {
      "text/html": [
       "<div>\n",
       "<style scoped>\n",
       "    .dataframe tbody tr th:only-of-type {\n",
       "        vertical-align: middle;\n",
       "    }\n",
       "\n",
       "    .dataframe tbody tr th {\n",
       "        vertical-align: top;\n",
       "    }\n",
       "\n",
       "    .dataframe thead th {\n",
       "        text-align: right;\n",
       "    }\n",
       "</style>\n",
       "<table border=\"1\" class=\"dataframe\">\n",
       "  <thead>\n",
       "    <tr style=\"text-align: right;\">\n",
       "      <th></th>\n",
       "      <th>order_id</th>\n",
       "      <th>country_code</th>\n",
       "      <th>store_address</th>\n",
       "      <th>payment_status</th>\n",
       "      <th>n_of_products</th>\n",
       "      <th>products_total</th>\n",
       "      <th>final_status</th>\n",
       "    </tr>\n",
       "    <tr>\n",
       "      <th>local_time</th>\n",
       "      <th></th>\n",
       "      <th></th>\n",
       "      <th></th>\n",
       "      <th></th>\n",
       "      <th></th>\n",
       "      <th></th>\n",
       "      <th></th>\n",
       "    </tr>\n",
       "  </thead>\n",
       "  <tbody>\n",
       "    <tr>\n",
       "      <th>10:03:07</th>\n",
       "      <td>17</td>\n",
       "      <td>17</td>\n",
       "      <td>17</td>\n",
       "      <td>17</td>\n",
       "      <td>17</td>\n",
       "      <td>17</td>\n",
       "      <td>17</td>\n",
       "    </tr>\n",
       "    <tr>\n",
       "      <th>10:03:06</th>\n",
       "      <td>17</td>\n",
       "      <td>17</td>\n",
       "      <td>17</td>\n",
       "      <td>17</td>\n",
       "      <td>17</td>\n",
       "      <td>17</td>\n",
       "      <td>17</td>\n",
       "    </tr>\n",
       "    <tr>\n",
       "      <th>21:03:01</th>\n",
       "      <td>16</td>\n",
       "      <td>16</td>\n",
       "      <td>16</td>\n",
       "      <td>16</td>\n",
       "      <td>16</td>\n",
       "      <td>16</td>\n",
       "      <td>16</td>\n",
       "    </tr>\n",
       "    <tr>\n",
       "      <th>10:03:05</th>\n",
       "      <td>15</td>\n",
       "      <td>15</td>\n",
       "      <td>15</td>\n",
       "      <td>15</td>\n",
       "      <td>15</td>\n",
       "      <td>15</td>\n",
       "      <td>15</td>\n",
       "    </tr>\n",
       "    <tr>\n",
       "      <th>10:03:08</th>\n",
       "      <td>15</td>\n",
       "      <td>15</td>\n",
       "      <td>15</td>\n",
       "      <td>15</td>\n",
       "      <td>15</td>\n",
       "      <td>15</td>\n",
       "      <td>15</td>\n",
       "    </tr>\n",
       "  </tbody>\n",
       "</table>\n",
       "</div>"
      ],
      "text/plain": [
       "            order_id  country_code  store_address  payment_status  \\\n",
       "local_time                                                          \n",
       "10:03:07          17            17             17              17   \n",
       "10:03:06          17            17             17              17   \n",
       "21:03:01          16            16             16              16   \n",
       "10:03:05          15            15             15              15   \n",
       "10:03:08          15            15             15              15   \n",
       "\n",
       "            n_of_products  products_total  final_status  \n",
       "local_time                                               \n",
       "10:03:07               17              17            17  \n",
       "10:03:06               17              17            17  \n",
       "21:03:01               16              16            16  \n",
       "10:03:05               15              15            15  \n",
       "10:03:08               15              15            15  "
      ]
     },
     "execution_count": 13,
     "metadata": {},
     "output_type": "execute_result"
    }
   ],
   "source": [
    "# In a dataframe:\n",
    "spaingr = spain.groupby(['local_time']).count().sort_values(by = 'order_id', ascending=False)\n",
    "spaingr.head()"
   ]
  },
  {
   "cell_type": "markdown",
   "metadata": {},
   "source": [
    "> The most common hours for ordering products in Spain seem to be at around 10 AM and at around 9 PM. However, plotting this column will give us a more accurate idea\n",
    ">\n",
    "> _Las horas más comunes para pedir productos en España parecen ser alrededor de las 10 de la mañana y alrededor de las 9 de la noche. Sin embargo, el trazado de esta columna nos dará una idea más precisa_"
   ]
  },
  {
   "cell_type": "code",
   "execution_count": 100,
   "metadata": {},
   "outputs": [
    {
     "name": "stderr",
     "output_type": "stream",
     "text": [
      "/tmp/ipykernel_818/477668250.py:3: SettingWithCopyWarning: \n",
      "A value is trying to be set on a copy of a slice from a DataFrame.\n",
      "Try using .loc[row_indexer,col_indexer] = value instead\n",
      "\n",
      "See the caveats in the documentation: https://pandas.pydata.org/pandas-docs/stable/user_guide/indexing.html#returning-a-view-versus-a-copy\n",
      "  spain.local_time = spain.local_time.astype(\"datetime64\")\n"
     ]
    },
    {
     "data": {
      "text/html": [
       "<div>\n",
       "<style scoped>\n",
       "    .dataframe tbody tr th:only-of-type {\n",
       "        vertical-align: middle;\n",
       "    }\n",
       "\n",
       "    .dataframe tbody tr th {\n",
       "        vertical-align: top;\n",
       "    }\n",
       "\n",
       "    .dataframe thead th {\n",
       "        text-align: right;\n",
       "    }\n",
       "</style>\n",
       "<table border=\"1\" class=\"dataframe\">\n",
       "  <thead>\n",
       "    <tr style=\"text-align: right;\">\n",
       "      <th></th>\n",
       "      <th>order_id</th>\n",
       "      <th>local_time</th>\n",
       "      <th>country_code</th>\n",
       "      <th>store_address</th>\n",
       "      <th>payment_status</th>\n",
       "      <th>n_of_products</th>\n",
       "      <th>products_total</th>\n",
       "      <th>final_status</th>\n",
       "    </tr>\n",
       "  </thead>\n",
       "  <tbody>\n",
       "    <tr>\n",
       "      <th>3</th>\n",
       "      <td>32089564</td>\n",
       "      <td>2022-11-07 20:15:21</td>\n",
       "      <td>ES</td>\n",
       "      <td>29446</td>\n",
       "      <td>PAID</td>\n",
       "      <td>6</td>\n",
       "      <td>6.37</td>\n",
       "      <td>DeliveredStatus</td>\n",
       "    </tr>\n",
       "    <tr>\n",
       "      <th>8</th>\n",
       "      <td>32236610</td>\n",
       "      <td>2022-11-07 17:09:16</td>\n",
       "      <td>ES</td>\n",
       "      <td>30120</td>\n",
       "      <td>PAID</td>\n",
       "      <td>3</td>\n",
       "      <td>4.35</td>\n",
       "      <td>DeliveredStatus</td>\n",
       "    </tr>\n",
       "    <tr>\n",
       "      <th>13</th>\n",
       "      <td>32235607</td>\n",
       "      <td>2022-11-07 18:02:18</td>\n",
       "      <td>ES</td>\n",
       "      <td>18682</td>\n",
       "      <td>PAID</td>\n",
       "      <td>9</td>\n",
       "      <td>16.12</td>\n",
       "      <td>DeliveredStatus</td>\n",
       "    </tr>\n",
       "    <tr>\n",
       "      <th>19</th>\n",
       "      <td>32670668</td>\n",
       "      <td>2022-11-07 14:37:58</td>\n",
       "      <td>ES</td>\n",
       "      <td>8994</td>\n",
       "      <td>PAID</td>\n",
       "      <td>12</td>\n",
       "      <td>17.93</td>\n",
       "      <td>DeliveredStatus</td>\n",
       "    </tr>\n",
       "    <tr>\n",
       "      <th>24</th>\n",
       "      <td>32126718</td>\n",
       "      <td>2022-11-07 21:12:30</td>\n",
       "      <td>ES</td>\n",
       "      <td>14872</td>\n",
       "      <td>PAID</td>\n",
       "      <td>3</td>\n",
       "      <td>22.00</td>\n",
       "      <td>DeliveredStatus</td>\n",
       "    </tr>\n",
       "  </tbody>\n",
       "</table>\n",
       "</div>"
      ],
      "text/plain": [
       "    order_id          local_time country_code  store_address payment_status  \\\n",
       "3   32089564 2022-11-07 20:15:21           ES          29446           PAID   \n",
       "8   32236610 2022-11-07 17:09:16           ES          30120           PAID   \n",
       "13  32235607 2022-11-07 18:02:18           ES          18682           PAID   \n",
       "19  32670668 2022-11-07 14:37:58           ES           8994           PAID   \n",
       "24  32126718 2022-11-07 21:12:30           ES          14872           PAID   \n",
       "\n",
       "    n_of_products  products_total     final_status  \n",
       "3               6            6.37  DeliveredStatus  \n",
       "8               3            4.35  DeliveredStatus  \n",
       "13              9           16.12  DeliveredStatus  \n",
       "19             12           17.93  DeliveredStatus  \n",
       "24              3           22.00  DeliveredStatus  "
      ]
     },
     "execution_count": 100,
     "metadata": {},
     "output_type": "execute_result"
    }
   ],
   "source": [
    "# Transforming the column dtype for plotting\n",
    "spain.local_time = spain.local_time.astype(\"datetime64\")\n",
    "spain.head()\n"
   ]
  },
  {
   "cell_type": "code",
   "execution_count": 87,
   "metadata": {},
   "outputs": [
    {
     "data": {
      "text/plain": [
       "order_id                   int64\n",
       "local_time        datetime64[ns]\n",
       "country_code              object\n",
       "store_address              int64\n",
       "payment_status            object\n",
       "n_of_products              int64\n",
       "products_total           float64\n",
       "final_status              object\n",
       "dtype: object"
      ]
     },
     "execution_count": 87,
     "metadata": {},
     "output_type": "execute_result"
    }
   ],
   "source": [
    "# Checking new dtypes\n",
    "spain.dtypes"
   ]
  },
  {
   "cell_type": "code",
   "execution_count": 102,
   "metadata": {},
   "outputs": [
    {
     "data": {
      "image/png": "[encoded data removed]",
      "text/plain": [
       "<Figure size 1800x1152 with 1 Axes>"
      ]
     },
     "metadata": {
      "needs_background": "light"
     },
     "output_type": "display_data"
    }
   ],
   "source": [
    "# Quick plotting to see the frequency of orders throughout time\n",
    "spain.groupby(spain.local_time.dt.time).count()['order_id'].plot(kind=\"line\");"
   ]
  },
  {
   "cell_type": "markdown",
   "metadata": {},
   "source": [
    "> * ##### We can confirm that the main peaks happen at around 10 AM and 21 PM\n",
    "> * ##### However, the most active time slots are middays and evenings\n",
    "> * ##### _Podemos confirmar que los principales picos se producen en torno a las 10 de la mañana y las 21 horas._\n",
    "> * ##### _Sin embargo, las franjas horarias más activas son los mediodías y las noches._"
   ]
  },
  {
   "cell_type": "markdown",
   "metadata": {},
   "source": [
    "# 3.    What is the average price per order in the store with ID 12513?\n",
    "_¿Cuál es el precio medio por pedido en la tienda con ID 12513?_"
   ]
  },
  {
   "cell_type": "code",
   "execution_count": 58,
   "metadata": {},
   "outputs": [
    {
     "data": {
      "text/plain": [
       "17.392244897959173"
      ]
     },
     "execution_count": 58,
     "metadata": {},
     "output_type": "execute_result"
    }
   ],
   "source": [
    "# Let's filter and calculate\n",
    "df[df['store_address'] == 12513]['products_total'].mean()"
   ]
  },
  {
   "cell_type": "markdown",
   "metadata": {},
   "source": [
    "> ##### The average price per order in the store with ID 12513 is of *`€17.4`*\n",
    ">\n",
    "> ##### _El precio medio por pedido en la tienda con ID 12513 es de *`17,4`*._"
   ]
  },
  {
   "cell_type": "markdown",
   "metadata": {},
   "source": [
    "# 4. What percentage of delivery drivers would you allocate for each shift to cope with peak demand (e.g. Shift 1 30%, Shift 2 10% and Shift 3 60%)?\n",
    "##### Taking into account the peaks of demand in Spain, if the delivery drivers work in 8-hour shifts.\n",
    "\n",
    "        Shift 1 (00:00-08:00)\n",
    "\n",
    "        Shift 2 (08:00-16:00)\n",
    "        \n",
    "        Shift 3 (16:00-00:00)\n",
    "        \n",
    "_¿Qué porcentaje de repartidores pondrías por cada turno para que sean capaces de hacer frente a los picos de demanda? (ej: Turno 1 el 30%, Turno 2 el 10% y Turno 3 el 60%)._"
   ]
  },
  {
   "cell_type": "markdown",
   "metadata": {},
   "source": [
    "> I would answer this question by analyzing the percentage of orders that take place during these time shifts\n",
    ">\n",
    "> _Respondería a esta pregunta analizando el porcentaje de pedidos que tienen lugar durante estos turnos_"
   ]
  },
  {
   "cell_type": "code",
   "execution_count": 14,
   "metadata": {},
   "outputs": [
    {
     "data": {
      "text/html": [
       "<div>\n",
       "<style scoped>\n",
       "    .dataframe tbody tr th:only-of-type {\n",
       "        vertical-align: middle;\n",
       "    }\n",
       "\n",
       "    .dataframe tbody tr th {\n",
       "        vertical-align: top;\n",
       "    }\n",
       "\n",
       "    .dataframe thead th {\n",
       "        text-align: right;\n",
       "    }\n",
       "</style>\n",
       "<table border=\"1\" class=\"dataframe\">\n",
       "  <thead>\n",
       "    <tr style=\"text-align: right;\">\n",
       "      <th></th>\n",
       "      <th>order_id</th>\n",
       "      <th>local_time</th>\n",
       "      <th>country_code</th>\n",
       "      <th>store_address</th>\n",
       "      <th>payment_status</th>\n",
       "      <th>n_of_products</th>\n",
       "      <th>products_total</th>\n",
       "      <th>final_status</th>\n",
       "    </tr>\n",
       "  </thead>\n",
       "  <tbody>\n",
       "    <tr>\n",
       "      <th>3655</th>\n",
       "      <td>32756826</td>\n",
       "      <td>00:39:03</td>\n",
       "      <td>ES</td>\n",
       "      <td>16337</td>\n",
       "      <td>PAID</td>\n",
       "      <td>4</td>\n",
       "      <td>18.95</td>\n",
       "      <td>DeliveredStatus</td>\n",
       "    </tr>\n",
       "    <tr>\n",
       "      <th>4252</th>\n",
       "      <td>32320402</td>\n",
       "      <td>00:46:48</td>\n",
       "      <td>ES</td>\n",
       "      <td>16347</td>\n",
       "      <td>PAID</td>\n",
       "      <td>6</td>\n",
       "      <td>17.40</td>\n",
       "      <td>DeliveredStatus</td>\n",
       "    </tr>\n",
       "    <tr>\n",
       "      <th>6052</th>\n",
       "      <td>32497368</td>\n",
       "      <td>00:26:08</td>\n",
       "      <td>ES</td>\n",
       "      <td>16348</td>\n",
       "      <td>NOT_PAID</td>\n",
       "      <td>5</td>\n",
       "      <td>6.45</td>\n",
       "      <td>DeliveredStatus</td>\n",
       "    </tr>\n",
       "    <tr>\n",
       "      <th>7365</th>\n",
       "      <td>32147971</td>\n",
       "      <td>00:26:47</td>\n",
       "      <td>ES</td>\n",
       "      <td>16348</td>\n",
       "      <td>PAID</td>\n",
       "      <td>3</td>\n",
       "      <td>4.40</td>\n",
       "      <td>DeliveredStatus</td>\n",
       "    </tr>\n",
       "    <tr>\n",
       "      <th>7858</th>\n",
       "      <td>32499362</td>\n",
       "      <td>00:42:33</td>\n",
       "      <td>ES</td>\n",
       "      <td>16347</td>\n",
       "      <td>PAID</td>\n",
       "      <td>1</td>\n",
       "      <td>2.95</td>\n",
       "      <td>CanceledStatus</td>\n",
       "    </tr>\n",
       "  </tbody>\n",
       "</table>\n",
       "</div>"
      ],
      "text/plain": [
       "      order_id local_time country_code  store_address payment_status  \\\n",
       "3655  32756826   00:39:03           ES          16337           PAID   \n",
       "4252  32320402   00:46:48           ES          16347           PAID   \n",
       "6052  32497368   00:26:08           ES          16348       NOT_PAID   \n",
       "7365  32147971   00:26:47           ES          16348           PAID   \n",
       "7858  32499362   00:42:33           ES          16347           PAID   \n",
       "\n",
       "      n_of_products  products_total     final_status  \n",
       "3655              4           18.95  DeliveredStatus  \n",
       "4252              6           17.40  DeliveredStatus  \n",
       "6052              5            6.45  DeliveredStatus  \n",
       "7365              3            4.40  DeliveredStatus  \n",
       "7858              1            2.95   CanceledStatus  "
      ]
     },
     "execution_count": 14,
     "metadata": {},
     "output_type": "execute_result"
    }
   ],
   "source": [
    "# Filtering a subset by time shift 1\n",
    "shift1 = spain[(spain['local_time'] >= '00:00:00') & (spain['local_time'] <= '08:00:00')]\n",
    "shift1.head()"
   ]
  },
  {
   "cell_type": "code",
   "execution_count": 15,
   "metadata": {},
   "outputs": [
    {
     "data": {
      "text/html": [
       "<div>\n",
       "<style scoped>\n",
       "    .dataframe tbody tr th:only-of-type {\n",
       "        vertical-align: middle;\n",
       "    }\n",
       "\n",
       "    .dataframe tbody tr th {\n",
       "        vertical-align: top;\n",
       "    }\n",
       "\n",
       "    .dataframe thead th {\n",
       "        text-align: right;\n",
       "    }\n",
       "</style>\n",
       "<table border=\"1\" class=\"dataframe\">\n",
       "  <thead>\n",
       "    <tr style=\"text-align: right;\">\n",
       "      <th></th>\n",
       "      <th>order_id</th>\n",
       "      <th>local_time</th>\n",
       "      <th>country_code</th>\n",
       "      <th>store_address</th>\n",
       "      <th>payment_status</th>\n",
       "      <th>n_of_products</th>\n",
       "      <th>products_total</th>\n",
       "      <th>final_status</th>\n",
       "    </tr>\n",
       "  </thead>\n",
       "  <tbody>\n",
       "    <tr>\n",
       "      <th>19</th>\n",
       "      <td>32670668</td>\n",
       "      <td>14:37:58</td>\n",
       "      <td>ES</td>\n",
       "      <td>8994</td>\n",
       "      <td>PAID</td>\n",
       "      <td>12</td>\n",
       "      <td>17.93</td>\n",
       "      <td>DeliveredStatus</td>\n",
       "    </tr>\n",
       "    <tr>\n",
       "      <th>75</th>\n",
       "      <td>32039883</td>\n",
       "      <td>15:29:14</td>\n",
       "      <td>ES</td>\n",
       "      <td>13660</td>\n",
       "      <td>PAID</td>\n",
       "      <td>6</td>\n",
       "      <td>45.90</td>\n",
       "      <td>DeliveredStatus</td>\n",
       "    </tr>\n",
       "    <tr>\n",
       "      <th>78</th>\n",
       "      <td>32528876</td>\n",
       "      <td>10:40:44</td>\n",
       "      <td>ES</td>\n",
       "      <td>7777</td>\n",
       "      <td>PAID</td>\n",
       "      <td>3</td>\n",
       "      <td>13.65</td>\n",
       "      <td>DeliveredStatus</td>\n",
       "    </tr>\n",
       "    <tr>\n",
       "      <th>102</th>\n",
       "      <td>32796628</td>\n",
       "      <td>14:06:42</td>\n",
       "      <td>ES</td>\n",
       "      <td>16245</td>\n",
       "      <td>PAID</td>\n",
       "      <td>21</td>\n",
       "      <td>33.33</td>\n",
       "      <td>CanceledStatus</td>\n",
       "    </tr>\n",
       "    <tr>\n",
       "      <th>121</th>\n",
       "      <td>33068237</td>\n",
       "      <td>13:27:31</td>\n",
       "      <td>ES</td>\n",
       "      <td>29451</td>\n",
       "      <td>PAID</td>\n",
       "      <td>3</td>\n",
       "      <td>21.40</td>\n",
       "      <td>DeliveredStatus</td>\n",
       "    </tr>\n",
       "  </tbody>\n",
       "</table>\n",
       "</div>"
      ],
      "text/plain": [
       "     order_id local_time country_code  store_address payment_status  \\\n",
       "19   32670668   14:37:58           ES           8994           PAID   \n",
       "75   32039883   15:29:14           ES          13660           PAID   \n",
       "78   32528876   10:40:44           ES           7777           PAID   \n",
       "102  32796628   14:06:42           ES          16245           PAID   \n",
       "121  33068237   13:27:31           ES          29451           PAID   \n",
       "\n",
       "     n_of_products  products_total     final_status  \n",
       "19              12           17.93  DeliveredStatus  \n",
       "75               6           45.90  DeliveredStatus  \n",
       "78               3           13.65  DeliveredStatus  \n",
       "102             21           33.33   CanceledStatus  \n",
       "121              3           21.40  DeliveredStatus  "
      ]
     },
     "execution_count": 15,
     "metadata": {},
     "output_type": "execute_result"
    }
   ],
   "source": [
    "# Filtering a subset by time shift 2\n",
    "shift2 = spain[(spain['local_time'] > '08:00:00') & (spain['local_time'] <= '16:00:00')]\n",
    "shift2.head()"
   ]
  },
  {
   "cell_type": "code",
   "execution_count": 16,
   "metadata": {},
   "outputs": [
    {
     "data": {
      "text/html": [
       "<div>\n",
       "<style scoped>\n",
       "    .dataframe tbody tr th:only-of-type {\n",
       "        vertical-align: middle;\n",
       "    }\n",
       "\n",
       "    .dataframe tbody tr th {\n",
       "        vertical-align: top;\n",
       "    }\n",
       "\n",
       "    .dataframe thead th {\n",
       "        text-align: right;\n",
       "    }\n",
       "</style>\n",
       "<table border=\"1\" class=\"dataframe\">\n",
       "  <thead>\n",
       "    <tr style=\"text-align: right;\">\n",
       "      <th></th>\n",
       "      <th>order_id</th>\n",
       "      <th>local_time</th>\n",
       "      <th>country_code</th>\n",
       "      <th>store_address</th>\n",
       "      <th>payment_status</th>\n",
       "      <th>n_of_products</th>\n",
       "      <th>products_total</th>\n",
       "      <th>final_status</th>\n",
       "    </tr>\n",
       "  </thead>\n",
       "  <tbody>\n",
       "    <tr>\n",
       "      <th>3</th>\n",
       "      <td>32089564</td>\n",
       "      <td>20:15:21</td>\n",
       "      <td>ES</td>\n",
       "      <td>29446</td>\n",
       "      <td>PAID</td>\n",
       "      <td>6</td>\n",
       "      <td>6.37</td>\n",
       "      <td>DeliveredStatus</td>\n",
       "    </tr>\n",
       "    <tr>\n",
       "      <th>8</th>\n",
       "      <td>32236610</td>\n",
       "      <td>17:09:16</td>\n",
       "      <td>ES</td>\n",
       "      <td>30120</td>\n",
       "      <td>PAID</td>\n",
       "      <td>3</td>\n",
       "      <td>4.35</td>\n",
       "      <td>DeliveredStatus</td>\n",
       "    </tr>\n",
       "    <tr>\n",
       "      <th>13</th>\n",
       "      <td>32235607</td>\n",
       "      <td>18:02:18</td>\n",
       "      <td>ES</td>\n",
       "      <td>18682</td>\n",
       "      <td>PAID</td>\n",
       "      <td>9</td>\n",
       "      <td>16.12</td>\n",
       "      <td>DeliveredStatus</td>\n",
       "    </tr>\n",
       "    <tr>\n",
       "      <th>24</th>\n",
       "      <td>32126718</td>\n",
       "      <td>21:12:30</td>\n",
       "      <td>ES</td>\n",
       "      <td>14872</td>\n",
       "      <td>PAID</td>\n",
       "      <td>3</td>\n",
       "      <td>22.00</td>\n",
       "      <td>DeliveredStatus</td>\n",
       "    </tr>\n",
       "    <tr>\n",
       "      <th>25</th>\n",
       "      <td>32229263</td>\n",
       "      <td>16:13:48</td>\n",
       "      <td>ES</td>\n",
       "      <td>14872</td>\n",
       "      <td>PAID</td>\n",
       "      <td>1</td>\n",
       "      <td>15.00</td>\n",
       "      <td>DeliveredStatus</td>\n",
       "    </tr>\n",
       "  </tbody>\n",
       "</table>\n",
       "</div>"
      ],
      "text/plain": [
       "    order_id local_time country_code  store_address payment_status  \\\n",
       "3   32089564   20:15:21           ES          29446           PAID   \n",
       "8   32236610   17:09:16           ES          30120           PAID   \n",
       "13  32235607   18:02:18           ES          18682           PAID   \n",
       "24  32126718   21:12:30           ES          14872           PAID   \n",
       "25  32229263   16:13:48           ES          14872           PAID   \n",
       "\n",
       "    n_of_products  products_total     final_status  \n",
       "3               6            6.37  DeliveredStatus  \n",
       "8               3            4.35  DeliveredStatus  \n",
       "13              9           16.12  DeliveredStatus  \n",
       "24              3           22.00  DeliveredStatus  \n",
       "25              1           15.00  DeliveredStatus  "
      ]
     },
     "execution_count": 16,
     "metadata": {},
     "output_type": "execute_result"
    }
   ],
   "source": [
    "# Filtering a subset by time shift 3\n",
    "shift3 = spain[(spain['local_time'] > '16:00:00') & (spain['local_time'] <= '23:59:59')]\n",
    "shift3.head()"
   ]
  },
  {
   "cell_type": "code",
   "execution_count": 17,
   "metadata": {},
   "outputs": [
    {
     "name": "stdout",
     "output_type": "stream",
     "text": [
      "Total orders in Spain are:  11554\n"
     ]
    }
   ],
   "source": [
    "# Let's check the total of orders in Spain\n",
    "print('Total orders in Spain are: ', spain.shape[0])"
   ]
  },
  {
   "cell_type": "code",
   "execution_count": 18,
   "metadata": {},
   "outputs": [
    {
     "name": "stdout",
     "output_type": "stream",
     "text": [
      "The sum of the number of orders per shift is: 11554\n"
     ]
    }
   ],
   "source": [
    "# Let's check if the sum of orders per shift coincides with the total\n",
    "print('The sum of the number of orders per shift is:', shift1.shape[0] + shift2.shape[0] + shift3.shape[0])"
   ]
  },
  {
   "cell_type": "code",
   "execution_count": 19,
   "metadata": {},
   "outputs": [
    {
     "name": "stdout",
     "output_type": "stream",
     "text": [
      "During shift 1: 0.12 % of the orders take place\n"
     ]
    }
   ],
   "source": [
    "# The percentage of orders according to each shift:\n",
    "\n",
    "print('During shift 1:', round((shift1.shape[0]/spain.shape[0])*100, 2), '% of the orders take place')"
   ]
  },
  {
   "cell_type": "code",
   "execution_count": 20,
   "metadata": {},
   "outputs": [
    {
     "name": "stdout",
     "output_type": "stream",
     "text": [
      "During shift 2: 38.84 % of the orders take place\n"
     ]
    }
   ],
   "source": [
    "print('During shift 2:', round((shift2.shape[0]/spain.shape[0])*100, 2), '% of the orders take place')"
   ]
  },
  {
   "cell_type": "code",
   "execution_count": 21,
   "metadata": {},
   "outputs": [
    {
     "name": "stdout",
     "output_type": "stream",
     "text": [
      "During shift 3: 61.04 % of the orders take place\n"
     ]
    }
   ],
   "source": [
    "print('During shift 3:', round((shift3.shape[0]/spain.shape[0])*100, 2), '% of the orders take place')"
   ]
  },
  {
   "cell_type": "markdown",
   "metadata": {},
   "source": [
    "> ##### I would allocate:\n",
    "> * ##### `0.12%` of the riders during the first shift\n",
    "> * ##### `38.84%` of the riders during the second shift\n",
    "> * ##### `61.04%` of the riders during the third shift\n",
    "> \n",
    "> ##### _Distribuiría:_\n",
    "> * ##### _El `0.12%` de los repartidores durante el primer turno_\n",
    "> * ##### _El `38.84%` de los repartidores durante el segundo turno_\n",
    "> * ##### _El `61.04%` de los repartidores durante el tercer turno_"
   ]
  },
  {
   "cell_type": "markdown",
   "metadata": {},
   "source": [
    "Outliers and other plots will be done in the 'outliers-and-distributions' notebook\n",
    "\n",
    "_La revisión de outliers y otras gráficas las haré en el jupyter de 'outliers-and-distributions'_"
   ]
  }
 ],
 "metadata": {
  "kernelspec": {
   "display_name": "Python 3.9.7 ('base')",
   "language": "python",
   "name": "python3"
  },
  "language_info": {
   "codemirror_mode": {
    "name": "ipython",
    "version": 3
   },
   "file_extension": ".py",
   "mimetype": "text/x-python",
   "name": "python",
   "nbconvert_exporter": "python",
   "pygments_lexer": "ipython3",
   "version": "3.9.7"
  },
  "orig_nbformat": 4,
  "vscode": {
   "interpreter": {
    "hash": "6be5d780ee9b0e6fe20ff9090f4981b24f52f07297829e94136e87c5137905e3"
   }
  }
 },
 "nbformat": 4,
 "nbformat_minor": 2
}
