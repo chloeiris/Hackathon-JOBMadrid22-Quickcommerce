{
 "cells": [
  {
   "cell_type": "markdown",
   "metadata": {},
   "source": [
    "### In order to produce models with better accuracy, I'm going to make an analysis of the variables and how much they affect to the response variable. "
   ]
  },
  {
   "cell_type": "code",
   "execution_count": 1,
   "metadata": {},
   "outputs": [],
   "source": [
    "# Data processing\n",
    "# -----------------------------------------------------------------------\n",
    "import numpy as np\n",
    "import pandas as pd\n",
    "\n",
    "# Datetime management\n",
    "# -----------------------------------------------------------------------\n",
    "import datetime as dt\n",
    "\n",
    "# Plots\n",
    "# ------------------------------------------------------------------------\n",
    "import matplotlib.pyplot as plt\n",
    "import seaborn as sns\n",
    "plt.rcParams[\"figure.figsize\"] = (15,10) "
   ]
  },
  {
   "cell_type": "code",
   "execution_count": 2,
   "metadata": {},
   "outputs": [
    {
     "data": {
      "text/html": [
       "<div>\n",
       "<style scoped>\n",
       "    .dataframe tbody tr th:only-of-type {\n",
       "        vertical-align: middle;\n",
       "    }\n",
       "\n",
       "    .dataframe tbody tr th {\n",
       "        vertical-align: top;\n",
       "    }\n",
       "\n",
       "    .dataframe thead th {\n",
       "        text-align: right;\n",
       "    }\n",
       "</style>\n",
       "<table border=\"1\" class=\"dataframe\">\n",
       "  <thead>\n",
       "    <tr style=\"text-align: right;\">\n",
       "      <th></th>\n",
       "      <th>order_id</th>\n",
       "      <th>local_time</th>\n",
       "      <th>country_code</th>\n",
       "      <th>store_address</th>\n",
       "      <th>payment_status</th>\n",
       "      <th>n_of_products</th>\n",
       "      <th>products_total</th>\n",
       "      <th>final_status</th>\n",
       "    </tr>\n",
       "  </thead>\n",
       "  <tbody>\n",
       "    <tr>\n",
       "      <th>0</th>\n",
       "      <td>33446280</td>\n",
       "      <td>14:11:09</td>\n",
       "      <td>AR</td>\n",
       "      <td>55379</td>\n",
       "      <td>PAID</td>\n",
       "      <td>2</td>\n",
       "      <td>11.88</td>\n",
       "      <td>DeliveredStatus</td>\n",
       "    </tr>\n",
       "    <tr>\n",
       "      <th>1</th>\n",
       "      <td>33107339</td>\n",
       "      <td>11:47:41</td>\n",
       "      <td>GT</td>\n",
       "      <td>23487</td>\n",
       "      <td>PAID</td>\n",
       "      <td>2</td>\n",
       "      <td>5.20</td>\n",
       "      <td>DeliveredStatus</td>\n",
       "    </tr>\n",
       "    <tr>\n",
       "      <th>2</th>\n",
       "      <td>32960645</td>\n",
       "      <td>11:53:53</td>\n",
       "      <td>CR</td>\n",
       "      <td>62229</td>\n",
       "      <td>PAID</td>\n",
       "      <td>1</td>\n",
       "      <td>6.03</td>\n",
       "      <td>DeliveredStatus</td>\n",
       "    </tr>\n",
       "    <tr>\n",
       "      <th>3</th>\n",
       "      <td>32089564</td>\n",
       "      <td>20:15:21</td>\n",
       "      <td>ES</td>\n",
       "      <td>29446</td>\n",
       "      <td>PAID</td>\n",
       "      <td>6</td>\n",
       "      <td>6.37</td>\n",
       "      <td>DeliveredStatus</td>\n",
       "    </tr>\n",
       "    <tr>\n",
       "      <th>4</th>\n",
       "      <td>32157739</td>\n",
       "      <td>21:32:16</td>\n",
       "      <td>AR</td>\n",
       "      <td>13917</td>\n",
       "      <td>PAID</td>\n",
       "      <td>1</td>\n",
       "      <td>5.36</td>\n",
       "      <td>CanceledStatus</td>\n",
       "    </tr>\n",
       "  </tbody>\n",
       "</table>\n",
       "</div>"
      ],
      "text/plain": [
       "   order_id local_time country_code  store_address payment_status  \\\n",
       "0  33446280   14:11:09           AR          55379           PAID   \n",
       "1  33107339   11:47:41           GT          23487           PAID   \n",
       "2  32960645   11:53:53           CR          62229           PAID   \n",
       "3  32089564   20:15:21           ES          29446           PAID   \n",
       "4  32157739   21:32:16           AR          13917           PAID   \n",
       "\n",
       "   n_of_products  products_total     final_status  \n",
       "0              2           11.88  DeliveredStatus  \n",
       "1              2            5.20  DeliveredStatus  \n",
       "2              1            6.03  DeliveredStatus  \n",
       "3              6            6.37  DeliveredStatus  \n",
       "4              1            5.36   CanceledStatus  "
      ]
     },
     "execution_count": 2,
     "metadata": {},
     "output_type": "execute_result"
    }
   ],
   "source": [
    "# Loading a dataframe with the data provided\n",
    "df = pd.read_csv('data/train.csv')\n",
    "df.head()"
   ]
  },
  {
   "cell_type": "markdown",
   "metadata": {},
   "source": [
    "### local_time vs final_status\n",
    "Let's see how much the time the order was placed influences the final status."
   ]
  },
  {
   "cell_type": "code",
   "execution_count": 3,
   "metadata": {},
   "outputs": [
    {
     "data": {
      "text/html": [
       "<div>\n",
       "<style scoped>\n",
       "    .dataframe tbody tr th:only-of-type {\n",
       "        vertical-align: middle;\n",
       "    }\n",
       "\n",
       "    .dataframe tbody tr th {\n",
       "        vertical-align: top;\n",
       "    }\n",
       "\n",
       "    .dataframe thead th {\n",
       "        text-align: right;\n",
       "    }\n",
       "</style>\n",
       "<table border=\"1\" class=\"dataframe\">\n",
       "  <thead>\n",
       "    <tr style=\"text-align: right;\">\n",
       "      <th></th>\n",
       "      <th>order_id</th>\n",
       "      <th>local_time</th>\n",
       "      <th>country_code</th>\n",
       "      <th>store_address</th>\n",
       "      <th>payment_status</th>\n",
       "      <th>n_of_products</th>\n",
       "      <th>products_total</th>\n",
       "      <th>final_status</th>\n",
       "    </tr>\n",
       "  </thead>\n",
       "  <tbody>\n",
       "    <tr>\n",
       "      <th>0</th>\n",
       "      <td>33446280</td>\n",
       "      <td>14</td>\n",
       "      <td>AR</td>\n",
       "      <td>55379</td>\n",
       "      <td>PAID</td>\n",
       "      <td>2</td>\n",
       "      <td>11.88</td>\n",
       "      <td>DeliveredStatus</td>\n",
       "    </tr>\n",
       "    <tr>\n",
       "      <th>1</th>\n",
       "      <td>33107339</td>\n",
       "      <td>11</td>\n",
       "      <td>GT</td>\n",
       "      <td>23487</td>\n",
       "      <td>PAID</td>\n",
       "      <td>2</td>\n",
       "      <td>5.20</td>\n",
       "      <td>DeliveredStatus</td>\n",
       "    </tr>\n",
       "    <tr>\n",
       "      <th>2</th>\n",
       "      <td>32960645</td>\n",
       "      <td>11</td>\n",
       "      <td>CR</td>\n",
       "      <td>62229</td>\n",
       "      <td>PAID</td>\n",
       "      <td>1</td>\n",
       "      <td>6.03</td>\n",
       "      <td>DeliveredStatus</td>\n",
       "    </tr>\n",
       "    <tr>\n",
       "      <th>3</th>\n",
       "      <td>32089564</td>\n",
       "      <td>20</td>\n",
       "      <td>ES</td>\n",
       "      <td>29446</td>\n",
       "      <td>PAID</td>\n",
       "      <td>6</td>\n",
       "      <td>6.37</td>\n",
       "      <td>DeliveredStatus</td>\n",
       "    </tr>\n",
       "    <tr>\n",
       "      <th>4</th>\n",
       "      <td>32157739</td>\n",
       "      <td>21</td>\n",
       "      <td>AR</td>\n",
       "      <td>13917</td>\n",
       "      <td>PAID</td>\n",
       "      <td>1</td>\n",
       "      <td>5.36</td>\n",
       "      <td>CanceledStatus</td>\n",
       "    </tr>\n",
       "  </tbody>\n",
       "</table>\n",
       "</div>"
      ],
      "text/plain": [
       "   order_id  local_time country_code  store_address payment_status  \\\n",
       "0  33446280          14           AR          55379           PAID   \n",
       "1  33107339          11           GT          23487           PAID   \n",
       "2  32960645          11           CR          62229           PAID   \n",
       "3  32089564          20           ES          29446           PAID   \n",
       "4  32157739          21           AR          13917           PAID   \n",
       "\n",
       "   n_of_products  products_total     final_status  \n",
       "0              2           11.88  DeliveredStatus  \n",
       "1              2            5.20  DeliveredStatus  \n",
       "2              1            6.03  DeliveredStatus  \n",
       "3              6            6.37  DeliveredStatus  \n",
       "4              1            5.36   CanceledStatus  "
      ]
     },
     "execution_count": 3,
     "metadata": {},
     "output_type": "execute_result"
    }
   ],
   "source": [
    "# Transforming the local time to hour granularity for better comprehension\n",
    "df['local_time'] = df['local_time'].astype('datetime64').dt.hour\n",
    "df.head()"
   ]
  },
  {
   "cell_type": "code",
   "execution_count": 4,
   "metadata": {},
   "outputs": [
    {
     "data": {
      "image/png": "[encoded data removed]",
      "text/plain": [
       "<Figure size 1080x720 with 1 Axes>"
      ]
     },
     "metadata": {
      "needs_background": "light"
     },
     "output_type": "display_data"
    }
   ],
   "source": [
    "# Plotting the amount of orders per hour and their final status\n",
    "sns.countplot(x='local_time', data=df, hue='final_status');\n",
    "plt.show()"
   ]
  },
  {
   "cell_type": "markdown",
   "metadata": {},
   "source": [
    "> Here we see that there are times where the ratio of canceled statuses rises."
   ]
  },
  {
   "cell_type": "code",
   "execution_count": 16,
   "metadata": {},
   "outputs": [
    {
     "name": "stderr",
     "output_type": "stream",
     "text": [
      "/home/chloeiris/anaconda3/lib/python3.9/site-packages/seaborn/distributions.py:2619: FutureWarning: `distplot` is a deprecated function and will be removed in a future version. Please adapt your code to use either `displot` (a figure-level function with similar flexibility) or `histplot` (an axes-level function for histograms).\n",
      "  warnings.warn(msg, FutureWarning)\n",
      "/home/chloeiris/anaconda3/lib/python3.9/site-packages/seaborn/distributions.py:2619: FutureWarning: `distplot` is a deprecated function and will be removed in a future version. Please adapt your code to use either `displot` (a figure-level function with similar flexibility) or `histplot` (an axes-level function for histograms).\n",
      "  warnings.warn(msg, FutureWarning)\n"
     ]
    },
    {
     "data": {
      "image/png": "[encoded data removed]",
      "text/plain": [
       "<Figure size 1080x720 with 1 Axes>"
      ]
     },
     "metadata": {
      "needs_background": "light"
     },
     "output_type": "display_data"
    }
   ],
   "source": [
    "# Plotting the distribution of probability for each status depending on the hour of the day\n",
    "ax1=sns.distplot(df[df['final_status']=='DeliveredStatus']['local_time'], label='Delivered')\n",
    "ax2=sns.distplot(df[df['final_status']=='CanceledStatus']['local_time'], label='Canceled')\n",
    "plt.xlabel('Probability by Status', fontsize=15)\n",
    "plt.ylabel('Probability Density', fontsize=15)\n",
    "plt.legend(fontsize=15)\n",
    "plt.show()"
   ]
  },
  {
   "cell_type": "markdown",
   "metadata": {},
   "source": [
    "> We can see the probability of ending with a canceled order is higher at some hours of the day.\n",
    ">\n",
    "> Therefore, we can conclude that this column is relevant for our model."
   ]
  },
  {
   "cell_type": "markdown",
   "metadata": {},
   "source": [
    "##### Creating a dataframe where we can see the actual ratios of delivery per hour"
   ]
  },
  {
   "cell_type": "code",
   "execution_count": 20,
   "metadata": {},
   "outputs": [
    {
     "data": {
      "text/html": [
       "<div>\n",
       "<style scoped>\n",
       "    .dataframe tbody tr th:only-of-type {\n",
       "        vertical-align: middle;\n",
       "    }\n",
       "\n",
       "    .dataframe tbody tr th {\n",
       "        vertical-align: top;\n",
       "    }\n",
       "\n",
       "    .dataframe thead th {\n",
       "        text-align: right;\n",
       "    }\n",
       "</style>\n",
       "<table border=\"1\" class=\"dataframe\">\n",
       "  <thead>\n",
       "    <tr style=\"text-align: right;\">\n",
       "      <th></th>\n",
       "      <th>local_time</th>\n",
       "      <th>order_id</th>\n",
       "      <th>country_code</th>\n",
       "      <th>store_address</th>\n",
       "      <th>payment_status</th>\n",
       "      <th>n_of_products</th>\n",
       "      <th>products_total</th>\n",
       "      <th>final_status</th>\n",
       "    </tr>\n",
       "  </thead>\n",
       "  <tbody>\n",
       "    <tr>\n",
       "      <th>0</th>\n",
       "      <td>0</td>\n",
       "      <td>430</td>\n",
       "      <td>430</td>\n",
       "      <td>430</td>\n",
       "      <td>430</td>\n",
       "      <td>430</td>\n",
       "      <td>430</td>\n",
       "      <td>430</td>\n",
       "    </tr>\n",
       "    <tr>\n",
       "      <th>1</th>\n",
       "      <td>1</td>\n",
       "      <td>147</td>\n",
       "      <td>147</td>\n",
       "      <td>147</td>\n",
       "      <td>147</td>\n",
       "      <td>147</td>\n",
       "      <td>147</td>\n",
       "      <td>147</td>\n",
       "    </tr>\n",
       "    <tr>\n",
       "      <th>2</th>\n",
       "      <td>2</td>\n",
       "      <td>27</td>\n",
       "      <td>27</td>\n",
       "      <td>27</td>\n",
       "      <td>27</td>\n",
       "      <td>27</td>\n",
       "      <td>27</td>\n",
       "      <td>27</td>\n",
       "    </tr>\n",
       "    <tr>\n",
       "      <th>3</th>\n",
       "      <td>3</td>\n",
       "      <td>14</td>\n",
       "      <td>14</td>\n",
       "      <td>14</td>\n",
       "      <td>14</td>\n",
       "      <td>14</td>\n",
       "      <td>14</td>\n",
       "      <td>14</td>\n",
       "    </tr>\n",
       "    <tr>\n",
       "      <th>4</th>\n",
       "      <td>4</td>\n",
       "      <td>6</td>\n",
       "      <td>6</td>\n",
       "      <td>6</td>\n",
       "      <td>6</td>\n",
       "      <td>6</td>\n",
       "      <td>6</td>\n",
       "      <td>6</td>\n",
       "    </tr>\n",
       "  </tbody>\n",
       "</table>\n",
       "</div>"
      ],
      "text/plain": [
       "   local_time  order_id  country_code  store_address  payment_status  \\\n",
       "0           0       430           430            430             430   \n",
       "1           1       147           147            147             147   \n",
       "2           2        27            27             27              27   \n",
       "3           3        14            14             14              14   \n",
       "4           4         6             6              6               6   \n",
       "\n",
       "   n_of_products  products_total  final_status  \n",
       "0            430             430           430  \n",
       "1            147             147           147  \n",
       "2             27              27            27  \n",
       "3             14              14            14  \n",
       "4              6               6             6  "
      ]
     },
     "execution_count": 20,
     "metadata": {},
     "output_type": "execute_result"
    }
   ],
   "source": [
    "# Here is the total count of orders per hour\n",
    "group_count= df.groupby('local_time').count().reset_index()\n",
    "group_count.head()"
   ]
  },
  {
   "cell_type": "code",
   "execution_count": 21,
   "metadata": {},
   "outputs": [
    {
     "data": {
      "text/html": [
       "<div>\n",
       "<style scoped>\n",
       "    .dataframe tbody tr th:only-of-type {\n",
       "        vertical-align: middle;\n",
       "    }\n",
       "\n",
       "    .dataframe tbody tr th {\n",
       "        vertical-align: top;\n",
       "    }\n",
       "\n",
       "    .dataframe thead th {\n",
       "        text-align: right;\n",
       "    }\n",
       "</style>\n",
       "<table border=\"1\" class=\"dataframe\">\n",
       "  <thead>\n",
       "    <tr style=\"text-align: right;\">\n",
       "      <th></th>\n",
       "      <th>order_id</th>\n",
       "      <th>local_time</th>\n",
       "      <th>country_code</th>\n",
       "      <th>store_address</th>\n",
       "      <th>payment_status</th>\n",
       "      <th>n_of_products</th>\n",
       "      <th>products_total</th>\n",
       "      <th>final_status</th>\n",
       "      <th>final_status_binary</th>\n",
       "    </tr>\n",
       "  </thead>\n",
       "  <tbody>\n",
       "    <tr>\n",
       "      <th>0</th>\n",
       "      <td>33446280</td>\n",
       "      <td>14</td>\n",
       "      <td>AR</td>\n",
       "      <td>55379</td>\n",
       "      <td>PAID</td>\n",
       "      <td>2</td>\n",
       "      <td>11.88</td>\n",
       "      <td>DeliveredStatus</td>\n",
       "      <td>1</td>\n",
       "    </tr>\n",
       "    <tr>\n",
       "      <th>1</th>\n",
       "      <td>33107339</td>\n",
       "      <td>11</td>\n",
       "      <td>GT</td>\n",
       "      <td>23487</td>\n",
       "      <td>PAID</td>\n",
       "      <td>2</td>\n",
       "      <td>5.20</td>\n",
       "      <td>DeliveredStatus</td>\n",
       "      <td>1</td>\n",
       "    </tr>\n",
       "    <tr>\n",
       "      <th>2</th>\n",
       "      <td>32960645</td>\n",
       "      <td>11</td>\n",
       "      <td>CR</td>\n",
       "      <td>62229</td>\n",
       "      <td>PAID</td>\n",
       "      <td>1</td>\n",
       "      <td>6.03</td>\n",
       "      <td>DeliveredStatus</td>\n",
       "      <td>1</td>\n",
       "    </tr>\n",
       "    <tr>\n",
       "      <th>3</th>\n",
       "      <td>32089564</td>\n",
       "      <td>20</td>\n",
       "      <td>ES</td>\n",
       "      <td>29446</td>\n",
       "      <td>PAID</td>\n",
       "      <td>6</td>\n",
       "      <td>6.37</td>\n",
       "      <td>DeliveredStatus</td>\n",
       "      <td>1</td>\n",
       "    </tr>\n",
       "    <tr>\n",
       "      <th>4</th>\n",
       "      <td>32157739</td>\n",
       "      <td>21</td>\n",
       "      <td>AR</td>\n",
       "      <td>13917</td>\n",
       "      <td>PAID</td>\n",
       "      <td>1</td>\n",
       "      <td>5.36</td>\n",
       "      <td>CanceledStatus</td>\n",
       "      <td>0</td>\n",
       "    </tr>\n",
       "  </tbody>\n",
       "</table>\n",
       "</div>"
      ],
      "text/plain": [
       "   order_id  local_time country_code  store_address payment_status  \\\n",
       "0  33446280          14           AR          55379           PAID   \n",
       "1  33107339          11           GT          23487           PAID   \n",
       "2  32960645          11           CR          62229           PAID   \n",
       "3  32089564          20           ES          29446           PAID   \n",
       "4  32157739          21           AR          13917           PAID   \n",
       "\n",
       "   n_of_products  products_total     final_status  final_status_binary  \n",
       "0              2           11.88  DeliveredStatus                    1  \n",
       "1              2            5.20  DeliveredStatus                    1  \n",
       "2              1            6.03  DeliveredStatus                    1  \n",
       "3              6            6.37  DeliveredStatus                    1  \n",
       "4              1            5.36   CanceledStatus                    0  "
      ]
     },
     "execution_count": 21,
     "metadata": {},
     "output_type": "execute_result"
    }
   ],
   "source": [
    "# Let's create a column with a binary encoding of the final status so we can add up the 1s and make a ratio of deliveries\n",
    "df['final_status_binary']=pd.get_dummies(df['final_status'], drop_first=True)\n",
    "df.head()"
   ]
  },
  {
   "cell_type": "code",
   "execution_count": 22,
   "metadata": {},
   "outputs": [
    {
     "data": {
      "text/html": [
       "<div>\n",
       "<style scoped>\n",
       "    .dataframe tbody tr th:only-of-type {\n",
       "        vertical-align: middle;\n",
       "    }\n",
       "\n",
       "    .dataframe tbody tr th {\n",
       "        vertical-align: top;\n",
       "    }\n",
       "\n",
       "    .dataframe thead th {\n",
       "        text-align: right;\n",
       "    }\n",
       "</style>\n",
       "<table border=\"1\" class=\"dataframe\">\n",
       "  <thead>\n",
       "    <tr style=\"text-align: right;\">\n",
       "      <th></th>\n",
       "      <th>local_time</th>\n",
       "      <th>order_id</th>\n",
       "      <th>store_address</th>\n",
       "      <th>n_of_products</th>\n",
       "      <th>products_total</th>\n",
       "      <th>final_status_binary</th>\n",
       "    </tr>\n",
       "  </thead>\n",
       "  <tbody>\n",
       "    <tr>\n",
       "      <th>0</th>\n",
       "      <td>0</td>\n",
       "      <td>14071178018</td>\n",
       "      <td>20199018</td>\n",
       "      <td>772</td>\n",
       "      <td>2189.69</td>\n",
       "      <td>305.0</td>\n",
       "    </tr>\n",
       "    <tr>\n",
       "      <th>1</th>\n",
       "      <td>1</td>\n",
       "      <td>4807774915</td>\n",
       "      <td>7340396</td>\n",
       "      <td>280</td>\n",
       "      <td>773.55</td>\n",
       "      <td>93.0</td>\n",
       "    </tr>\n",
       "    <tr>\n",
       "      <th>2</th>\n",
       "      <td>2</td>\n",
       "      <td>878022017</td>\n",
       "      <td>1354055</td>\n",
       "      <td>50</td>\n",
       "      <td>193.63</td>\n",
       "      <td>9.0</td>\n",
       "    </tr>\n",
       "    <tr>\n",
       "      <th>3</th>\n",
       "      <td>3</td>\n",
       "      <td>456136322</td>\n",
       "      <td>802597</td>\n",
       "      <td>22</td>\n",
       "      <td>100.23</td>\n",
       "      <td>11.0</td>\n",
       "    </tr>\n",
       "    <tr>\n",
       "      <th>4</th>\n",
       "      <td>4</td>\n",
       "      <td>197572130</td>\n",
       "      <td>370964</td>\n",
       "      <td>10</td>\n",
       "      <td>34.46</td>\n",
       "      <td>0.0</td>\n",
       "    </tr>\n",
       "  </tbody>\n",
       "</table>\n",
       "</div>"
      ],
      "text/plain": [
       "   local_time     order_id  store_address  n_of_products  products_total  \\\n",
       "0           0  14071178018       20199018            772         2189.69   \n",
       "1           1   4807774915        7340396            280          773.55   \n",
       "2           2    878022017        1354055             50          193.63   \n",
       "3           3    456136322         802597             22          100.23   \n",
       "4           4    197572130         370964             10           34.46   \n",
       "\n",
       "   final_status_binary  \n",
       "0                305.0  \n",
       "1                 93.0  \n",
       "2                  9.0  \n",
       "3                 11.0  \n",
       "4                  0.0  "
      ]
     },
     "execution_count": 22,
     "metadata": {},
     "output_type": "execute_result"
    }
   ],
   "source": [
    "# Here is the sum of the delivered orders\n",
    "group_delivered = df.groupby('local_time').sum().reset_index()\n",
    "group_delivered.head()"
   ]
  },
  {
   "cell_type": "code",
   "execution_count": 23,
   "metadata": {},
   "outputs": [],
   "source": [
    "# Empty dataframe to append new calculated columns\n",
    "ratios = pd.DataFrame()"
   ]
  },
  {
   "cell_type": "code",
   "execution_count": 24,
   "metadata": {},
   "outputs": [
    {
     "data": {
      "text/html": [
       "<div>\n",
       "<style scoped>\n",
       "    .dataframe tbody tr th:only-of-type {\n",
       "        vertical-align: middle;\n",
       "    }\n",
       "\n",
       "    .dataframe tbody tr th {\n",
       "        vertical-align: top;\n",
       "    }\n",
       "\n",
       "    .dataframe thead th {\n",
       "        text-align: right;\n",
       "    }\n",
       "</style>\n",
       "<table border=\"1\" class=\"dataframe\">\n",
       "  <thead>\n",
       "    <tr style=\"text-align: right;\">\n",
       "      <th></th>\n",
       "      <th>hour</th>\n",
       "      <th>total_orders</th>\n",
       "      <th>delivered</th>\n",
       "      <th>delivered_ratios</th>\n",
       "    </tr>\n",
       "  </thead>\n",
       "  <tbody>\n",
       "    <tr>\n",
       "      <th>0</th>\n",
       "      <td>0</td>\n",
       "      <td>430</td>\n",
       "      <td>305.0</td>\n",
       "      <td>0.709302</td>\n",
       "    </tr>\n",
       "    <tr>\n",
       "      <th>1</th>\n",
       "      <td>1</td>\n",
       "      <td>147</td>\n",
       "      <td>93.0</td>\n",
       "      <td>0.632653</td>\n",
       "    </tr>\n",
       "    <tr>\n",
       "      <th>2</th>\n",
       "      <td>2</td>\n",
       "      <td>27</td>\n",
       "      <td>9.0</td>\n",
       "      <td>0.333333</td>\n",
       "    </tr>\n",
       "    <tr>\n",
       "      <th>3</th>\n",
       "      <td>3</td>\n",
       "      <td>14</td>\n",
       "      <td>11.0</td>\n",
       "      <td>0.785714</td>\n",
       "    </tr>\n",
       "    <tr>\n",
       "      <th>4</th>\n",
       "      <td>4</td>\n",
       "      <td>6</td>\n",
       "      <td>0.0</td>\n",
       "      <td>0.000000</td>\n",
       "    </tr>\n",
       "  </tbody>\n",
       "</table>\n",
       "</div>"
      ],
      "text/plain": [
       "   hour  total_orders  delivered  delivered_ratios\n",
       "0     0           430      305.0          0.709302\n",
       "1     1           147       93.0          0.632653\n",
       "2     2            27        9.0          0.333333\n",
       "3     3            14       11.0          0.785714\n",
       "4     4             6        0.0          0.000000"
      ]
     },
     "execution_count": 24,
     "metadata": {},
     "output_type": "execute_result"
    }
   ],
   "source": [
    "ratios['hour'] = group_count['local_time']\n",
    "ratios['total_orders'] = group_count['order_id']\n",
    "ratios['delivered'] = group_delivered['final_status_binary']\n",
    "ratios['delivered_ratios'] = ratios['delivered'] / ratios['total_orders']\n",
    "ratios.head()"
   ]
  },
  {
   "cell_type": "code",
   "execution_count": 28,
   "metadata": {},
   "outputs": [
    {
     "data": {
      "image/png": "[encoded data removed]",
      "text/plain": [
       "<Figure size 1080x720 with 1 Axes>"
      ]
     },
     "metadata": {
      "needs_background": "light"
     },
     "output_type": "display_data"
    }
   ],
   "source": [
    "sns.lineplot(x='hour', y='delivered_ratios', data=ratios);"
   ]
  },
  {
   "cell_type": "markdown",
   "metadata": {},
   "source": [
    "> The DeliveredStatus ratio is stable throughout the day, and starts descending at night"
   ]
  },
  {
   "cell_type": "markdown",
   "metadata": {},
   "source": [
    "### country_code vs final_status"
   ]
  },
  {
   "cell_type": "code",
   "execution_count": 30,
   "metadata": {},
   "outputs": [
    {
     "data": {
      "image/png": "[encoded data removed]",
      "text/plain": [
       "<Figure size 1080x720 with 1 Axes>"
      ]
     },
     "metadata": {
      "needs_background": "light"
     },
     "output_type": "display_data"
    }
   ],
   "source": [
    "sns.countplot(x='country_code', data = df, hue= 'final_status');"
   ]
  },
  {
   "cell_type": "code",
   "execution_count": 31,
   "metadata": {},
   "outputs": [
    {
     "data": {
      "text/html": [
       "<div>\n",
       "<style scoped>\n",
       "    .dataframe tbody tr th:only-of-type {\n",
       "        vertical-align: middle;\n",
       "    }\n",
       "\n",
       "    .dataframe tbody tr th {\n",
       "        vertical-align: top;\n",
       "    }\n",
       "\n",
       "    .dataframe thead th {\n",
       "        text-align: right;\n",
       "    }\n",
       "</style>\n",
       "<table border=\"1\" class=\"dataframe\">\n",
       "  <thead>\n",
       "    <tr style=\"text-align: right;\">\n",
       "      <th></th>\n",
       "      <th>country_code</th>\n",
       "      <th>order_id</th>\n",
       "      <th>local_time</th>\n",
       "      <th>store_address</th>\n",
       "      <th>payment_status</th>\n",
       "      <th>n_of_products</th>\n",
       "      <th>products_total</th>\n",
       "      <th>final_status</th>\n",
       "      <th>final_status_binary</th>\n",
       "    </tr>\n",
       "  </thead>\n",
       "  <tbody>\n",
       "    <tr>\n",
       "      <th>0</th>\n",
       "      <td>AR</td>\n",
       "      <td>11854</td>\n",
       "      <td>11854</td>\n",
       "      <td>11854</td>\n",
       "      <td>11854</td>\n",
       "      <td>11854</td>\n",
       "      <td>11854</td>\n",
       "      <td>11854</td>\n",
       "      <td>11854</td>\n",
       "    </tr>\n",
       "    <tr>\n",
       "      <th>1</th>\n",
       "      <td>BR</td>\n",
       "      <td>1</td>\n",
       "      <td>1</td>\n",
       "      <td>1</td>\n",
       "      <td>1</td>\n",
       "      <td>1</td>\n",
       "      <td>1</td>\n",
       "      <td>1</td>\n",
       "      <td>1</td>\n",
       "    </tr>\n",
       "    <tr>\n",
       "      <th>2</th>\n",
       "      <td>CI</td>\n",
       "      <td>6</td>\n",
       "      <td>6</td>\n",
       "      <td>6</td>\n",
       "      <td>6</td>\n",
       "      <td>6</td>\n",
       "      <td>6</td>\n",
       "      <td>6</td>\n",
       "      <td>6</td>\n",
       "    </tr>\n",
       "    <tr>\n",
       "      <th>3</th>\n",
       "      <td>CL</td>\n",
       "      <td>994</td>\n",
       "      <td>994</td>\n",
       "      <td>994</td>\n",
       "      <td>994</td>\n",
       "      <td>994</td>\n",
       "      <td>994</td>\n",
       "      <td>994</td>\n",
       "      <td>994</td>\n",
       "    </tr>\n",
       "    <tr>\n",
       "      <th>4</th>\n",
       "      <td>CR</td>\n",
       "      <td>1000</td>\n",
       "      <td>1000</td>\n",
       "      <td>1000</td>\n",
       "      <td>1000</td>\n",
       "      <td>1000</td>\n",
       "      <td>1000</td>\n",
       "      <td>1000</td>\n",
       "      <td>1000</td>\n",
       "    </tr>\n",
       "  </tbody>\n",
       "</table>\n",
       "</div>"
      ],
      "text/plain": [
       "  country_code  order_id  local_time  store_address  payment_status  \\\n",
       "0           AR     11854       11854          11854           11854   \n",
       "1           BR         1           1              1               1   \n",
       "2           CI         6           6              6               6   \n",
       "3           CL       994         994            994             994   \n",
       "4           CR      1000        1000           1000            1000   \n",
       "\n",
       "   n_of_products  products_total  final_status  final_status_binary  \n",
       "0          11854           11854         11854                11854  \n",
       "1              1               1             1                    1  \n",
       "2              6               6             6                    6  \n",
       "3            994             994           994                  994  \n",
       "4           1000            1000          1000                 1000  "
      ]
     },
     "execution_count": 31,
     "metadata": {},
     "output_type": "execute_result"
    }
   ],
   "source": [
    "group_country = df.groupby(['country_code']).count().reset_index()\n",
    "group_country.head()"
   ]
  },
  {
   "cell_type": "code",
   "execution_count": 32,
   "metadata": {},
   "outputs": [
    {
     "data": {
      "text/html": [
       "<div>\n",
       "<style scoped>\n",
       "    .dataframe tbody tr th:only-of-type {\n",
       "        vertical-align: middle;\n",
       "    }\n",
       "\n",
       "    .dataframe tbody tr th {\n",
       "        vertical-align: top;\n",
       "    }\n",
       "\n",
       "    .dataframe thead th {\n",
       "        text-align: right;\n",
       "    }\n",
       "</style>\n",
       "<table border=\"1\" class=\"dataframe\">\n",
       "  <thead>\n",
       "    <tr style=\"text-align: right;\">\n",
       "      <th></th>\n",
       "      <th>country_code</th>\n",
       "      <th>order_id</th>\n",
       "      <th>local_time</th>\n",
       "      <th>store_address</th>\n",
       "      <th>n_of_products</th>\n",
       "      <th>products_total</th>\n",
       "      <th>final_status_binary</th>\n",
       "    </tr>\n",
       "  </thead>\n",
       "  <tbody>\n",
       "    <tr>\n",
       "      <th>0</th>\n",
       "      <td>AR</td>\n",
       "      <td>389010903865</td>\n",
       "      <td>206543</td>\n",
       "      <td>578535813</td>\n",
       "      <td>26743</td>\n",
       "      <td>77390.82</td>\n",
       "      <td>10107.0</td>\n",
       "    </tr>\n",
       "    <tr>\n",
       "      <th>1</th>\n",
       "      <td>BR</td>\n",
       "      <td>31848304</td>\n",
       "      <td>7</td>\n",
       "      <td>49346</td>\n",
       "      <td>8</td>\n",
       "      <td>6.01</td>\n",
       "      <td>0.0</td>\n",
       "    </tr>\n",
       "    <tr>\n",
       "      <th>2</th>\n",
       "      <td>CI</td>\n",
       "      <td>197735331</td>\n",
       "      <td>101</td>\n",
       "      <td>449074</td>\n",
       "      <td>6</td>\n",
       "      <td>0.22</td>\n",
       "      <td>3.0</td>\n",
       "    </tr>\n",
       "    <tr>\n",
       "      <th>3</th>\n",
       "      <td>CL</td>\n",
       "      <td>32622993742</td>\n",
       "      <td>16995</td>\n",
       "      <td>29172595</td>\n",
       "      <td>1989</td>\n",
       "      <td>135.11</td>\n",
       "      <td>857.0</td>\n",
       "    </tr>\n",
       "    <tr>\n",
       "      <th>4</th>\n",
       "      <td>CR</td>\n",
       "      <td>32786599811</td>\n",
       "      <td>15713</td>\n",
       "      <td>52441197</td>\n",
       "      <td>1674</td>\n",
       "      <td>10098.87</td>\n",
       "      <td>926.0</td>\n",
       "    </tr>\n",
       "  </tbody>\n",
       "</table>\n",
       "</div>"
      ],
      "text/plain": [
       "  country_code      order_id  local_time  store_address  n_of_products  \\\n",
       "0           AR  389010903865      206543      578535813          26743   \n",
       "1           BR      31848304           7          49346              8   \n",
       "2           CI     197735331         101         449074              6   \n",
       "3           CL   32622993742       16995       29172595           1989   \n",
       "4           CR   32786599811       15713       52441197           1674   \n",
       "\n",
       "   products_total  final_status_binary  \n",
       "0        77390.82              10107.0  \n",
       "1            6.01                  0.0  \n",
       "2            0.22                  3.0  \n",
       "3          135.11                857.0  \n",
       "4        10098.87                926.0  "
      ]
     },
     "execution_count": 32,
     "metadata": {},
     "output_type": "execute_result"
    }
   ],
   "source": [
    "group_country_sum = df.groupby(['country_code']).sum().reset_index()\n",
    "group_country_sum.head()"
   ]
  },
  {
   "cell_type": "code",
   "execution_count": 34,
   "metadata": {},
   "outputs": [
    {
     "data": {
      "text/html": [
       "<div>\n",
       "<style scoped>\n",
       "    .dataframe tbody tr th:only-of-type {\n",
       "        vertical-align: middle;\n",
       "    }\n",
       "\n",
       "    .dataframe tbody tr th {\n",
       "        vertical-align: top;\n",
       "    }\n",
       "\n",
       "    .dataframe thead th {\n",
       "        text-align: right;\n",
       "    }\n",
       "</style>\n",
       "<table border=\"1\" class=\"dataframe\">\n",
       "  <thead>\n",
       "    <tr style=\"text-align: right;\">\n",
       "      <th></th>\n",
       "      <th>country</th>\n",
       "      <th>total_orders</th>\n",
       "      <th>delivered</th>\n",
       "      <th>delivered_ratios</th>\n",
       "    </tr>\n",
       "  </thead>\n",
       "  <tbody>\n",
       "    <tr>\n",
       "      <th>0</th>\n",
       "      <td>AR</td>\n",
       "      <td>11854</td>\n",
       "      <td>10107.0</td>\n",
       "      <td>0.852624</td>\n",
       "    </tr>\n",
       "    <tr>\n",
       "      <th>1</th>\n",
       "      <td>BR</td>\n",
       "      <td>1</td>\n",
       "      <td>0.0</td>\n",
       "      <td>0.000000</td>\n",
       "    </tr>\n",
       "    <tr>\n",
       "      <th>2</th>\n",
       "      <td>CI</td>\n",
       "      <td>6</td>\n",
       "      <td>3.0</td>\n",
       "      <td>0.500000</td>\n",
       "    </tr>\n",
       "    <tr>\n",
       "      <th>3</th>\n",
       "      <td>CL</td>\n",
       "      <td>994</td>\n",
       "      <td>857.0</td>\n",
       "      <td>0.862173</td>\n",
       "    </tr>\n",
       "    <tr>\n",
       "      <th>4</th>\n",
       "      <td>CR</td>\n",
       "      <td>1000</td>\n",
       "      <td>926.0</td>\n",
       "      <td>0.926000</td>\n",
       "    </tr>\n",
       "  </tbody>\n",
       "</table>\n",
       "</div>"
      ],
      "text/plain": [
       "  country  total_orders  delivered  delivered_ratios\n",
       "0      AR         11854    10107.0          0.852624\n",
       "1      BR             1        0.0          0.000000\n",
       "2      CI             6        3.0          0.500000\n",
       "3      CL           994      857.0          0.862173\n",
       "4      CR          1000      926.0          0.926000"
      ]
     },
     "execution_count": 34,
     "metadata": {},
     "output_type": "execute_result"
    }
   ],
   "source": [
    "ratios_country = pd.DataFrame()\n",
    "ratios_country['country'] = group_country['country_code']\n",
    "ratios_country['total_orders'] = group_country['order_id']\n",
    "ratios_country['delivered'] = group_country_sum['final_status_binary']\n",
    "ratios_country['delivered_ratios'] = ratios_country['delivered'] / ratios_country['total_orders']\n",
    "ratios_country.head()"
   ]
  },
  {
   "cell_type": "code",
   "execution_count": 37,
   "metadata": {},
   "outputs": [
    {
     "data": {
      "image/png": "[encoded data removed]",
      "text/plain": [
       "<Figure size 1080x720 with 1 Axes>"
      ]
     },
     "metadata": {
      "needs_background": "light"
     },
     "output_type": "display_data"
    }
   ],
   "source": [
    "sns.pointplot(x='country', y= 'delivered_ratios', data=ratios_country);"
   ]
  },
  {
   "cell_type": "markdown",
   "metadata": {},
   "source": [
    "> There is some variabilty between countries, so this could affect our model.\n",
    ">\n",
    "> In the case of Brazil the only order that was placed was also canceled. \n",
    ">\n",
    "> Ivory Coast also shows few orders and half of them were canceled.\n",
    ">\n",
    "> This can make us think that the number of orders placed, which means popularity in each country, affects the cancelation ratio.\n",
    ">\n",
    "> For these reasons I believe this column is important to include in the prediction model.\n"
   ]
  },
  {
   "cell_type": "markdown",
   "metadata": {},
   "source": [
    "### n_of_products vs final_status"
   ]
  },
  {
   "cell_type": "code",
   "execution_count": null,
   "metadata": {},
   "outputs": [],
   "source": []
  }
 ],
 "metadata": {
  "kernelspec": {
   "display_name": "Python 3.9.7 ('base')",
   "language": "python",
   "name": "python3"
  },
  "language_info": {
   "codemirror_mode": {
    "name": "ipython",
    "version": 3
   },
   "file_extension": ".py",
   "mimetype": "text/x-python",
   "name": "python",
   "nbconvert_exporter": "python",
   "pygments_lexer": "ipython3",
   "version": "3.9.7"
  },
  "orig_nbformat": 4,
  "vscode": {
   "interpreter": {
    "hash": "6be5d780ee9b0e6fe20ff9090f4981b24f52f07297829e94136e87c5137905e3"
   }
  }
 },
 "nbformat": 4,
 "nbformat_minor": 2
}
